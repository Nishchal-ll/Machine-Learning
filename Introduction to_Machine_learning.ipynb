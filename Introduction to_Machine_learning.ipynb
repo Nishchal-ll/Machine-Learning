{
  "cells": [
    {
      "cell_type": "markdown",
      "metadata": {
        "colab_type": "text",
        "id": "view-in-github"
      },
      "source": [
        "<a href=\"https://colab.research.google.com/github/Nishchal-ll/Machine-Learning/blob/main/Introduction%20to_Machine_learning.ipynb\" target=\"_parent\"><img src=\"https://colab.research.google.com/assets/colab-badge.svg\" alt=\"Open In Colab\"/></a>"
      ]
    },
    {
      "cell_type": "markdown",
      "metadata": {
        "id": "f1iJatkUrX8I"
      },
      "source": [
        "*Introduction to NumPy*\n",
        "\n",
        "What we will cover?\n",
        "\n",
        "\n",
        "*   Creating single dimensional arrays 👌👍\n",
        "*   Multidimensional arrays\n",
        "*   Randomly generated arrays\n",
        "*   Randomly generated arrays\n",
        "*   Element wise operations\n",
        "*   Summarizing operations\n",
        "\n",
        "\n",
        "\n",
        "\n",
        "\n",
        "\n"
      ]
    },
    {
      "cell_type": "markdown",
      "metadata": {
        "id": "tiqkfhA0xYHA"
      },
      "source": [
        "# Single Dimensional Arrays"
      ]
    },
    {
      "cell_type": "code",
      "execution_count": 1,
      "metadata": {
        "colab": {
          "base_uri": "https://localhost:8080/"
        },
        "id": "UlO91Rj7qVi0",
        "outputId": "d5f2c45d-9ddf-4437-9505-83e9f45e3cbc"
      },
      "outputs": [
        {
          "data": {
            "text/plain": [
              "array([0., 0., 0., 0., 0.])"
            ]
          },
          "execution_count": 1,
          "metadata": {},
          "output_type": "execute_result"
        }
      ],
      "source": [
        "import numpy as np\n",
        "#create an array with all the elements to be zeros\n",
        "\n",
        "\n",
        "np.zeros(5)\n"
      ]
    },
    {
      "cell_type": "code",
      "execution_count": 9,
      "metadata": {
        "colab": {
          "base_uri": "https://localhost:8080/"
        },
        "id": "fq8ajA1AtoWJ",
        "outputId": "8d8fa99b-3567-41f7-8a47-eb1bc100c998"
      },
      "outputs": [
        {
          "data": {
            "text/plain": [
              "array([1., 1., 1., 1., 1., 1.])"
            ]
          },
          "execution_count": 9,
          "metadata": {},
          "output_type": "execute_result"
        }
      ],
      "source": [
        "np.ones(6)"
      ]
    },
    {
      "cell_type": "code",
      "execution_count": 11,
      "metadata": {
        "colab": {
          "base_uri": "https://localhost:8080/"
        },
        "id": "3drvzAhdt4D-",
        "outputId": "3cc1b578-b7f4-440c-f6c1-a344bd4e1808"
      },
      "outputs": [
        {
          "data": {
            "text/plain": [
              "array([3, 3, 3, 3, 3, 3, 3, 3, 3, 3, 3])"
            ]
          },
          "execution_count": 11,
          "metadata": {},
          "output_type": "execute_result"
        }
      ],
      "source": [
        "#create array of size 11 with all elements 3\n",
        "np.full(11, 3)"
      ]
    },
    {
      "cell_type": "code",
      "execution_count": 12,
      "metadata": {
        "colab": {
          "base_uri": "https://localhost:8080/"
        },
        "id": "yWaXOTyfuBof",
        "outputId": "32f712c0-3bd7-48d8-8db7-a98299fcb4da"
      },
      "outputs": [
        {
          "data": {
            "text/plain": [
              "array([1, 2, 3, 4, 5])"
            ]
          },
          "execution_count": 12,
          "metadata": {},
          "output_type": "execute_result"
        }
      ],
      "source": [
        "np.array([1,2,3,4,5])\n",
        "# self array"
      ]
    },
    {
      "cell_type": "code",
      "execution_count": 15,
      "metadata": {
        "colab": {
          "base_uri": "https://localhost:8080/"
        },
        "id": "5wuV1xLGvQWf",
        "outputId": "fdf21c3b-ff07-473b-b94d-9b2c06506edf"
      },
      "outputs": [
        {
          "data": {
            "text/plain": [
              "array([3, 4, 5, 6, 7, 8, 9])"
            ]
          },
          "execution_count": 15,
          "metadata": {},
          "output_type": "execute_result"
        }
      ],
      "source": [
        "np.arange(3, 10)\n",
        "# starting with 3 and going till 9 excluding 10"
      ]
    },
    {
      "cell_type": "code",
      "execution_count": 22,
      "metadata": {
        "colab": {
          "base_uri": "https://localhost:8080/"
        },
        "id": "hB6PBaj4v45g",
        "outputId": "fddf8202-d31c-44d4-eb41-e0691fb6904f"
      },
      "outputs": [
        {
          "data": {
            "text/plain": [
              "array([  0.,  25.,  50.,  75., 100.])"
            ]
          },
          "execution_count": 22,
          "metadata": {},
          "output_type": "execute_result"
        }
      ],
      "source": [
        "#create an array with evenly spaced numbers with specified range\n",
        "np.linspace(0,100,5)"
      ]
    },
    {
      "cell_type": "markdown",
      "metadata": {
        "id": "ztwjs8n9xOxd"
      },
      "source": [
        "#Multi Dimensional Array"
      ]
    },
    {
      "cell_type": "code",
      "execution_count": 26,
      "metadata": {
        "colab": {
          "base_uri": "https://localhost:8080/"
        },
        "id": "ijLIqALWxgmw",
        "outputId": "c059b5fc-97fa-4972-9f2c-a328a59c648c"
      },
      "outputs": [
        {
          "data": {
            "text/plain": [
              "array([[0., 0., 0., 0.],\n",
              "       [0., 0., 0., 0.],\n",
              "       [0., 0., 0., 0.]])"
            ]
          },
          "execution_count": 26,
          "metadata": {},
          "output_type": "execute_result"
        }
      ],
      "source": [
        "np.zeros((3,4))\n",
        "# 3 rows and 4 columns"
      ]
    },
    {
      "cell_type": "code",
      "execution_count": 27,
      "metadata": {
        "colab": {
          "base_uri": "https://localhost:8080/"
        },
        "id": "AHiQptTexmcY",
        "outputId": "a351f3ff-2ffa-4769-d011-bab87504f749"
      },
      "outputs": [
        {
          "data": {
            "text/plain": [
              "array([[1., 1.],\n",
              "       [1., 1.]])"
            ]
          },
          "execution_count": 27,
          "metadata": {},
          "output_type": "execute_result"
        }
      ],
      "source": [
        "np.ones((2,2))\n",
        "#square matrix with all elements 1"
      ]
    },
    {
      "cell_type": "code",
      "execution_count": 37,
      "metadata": {
        "colab": {
          "base_uri": "https://localhost:8080/"
        },
        "id": "iHGefqC4yX9t",
        "outputId": "9e317df3-9da9-4055-b825-ccd61dd49583"
      },
      "outputs": [
        {
          "data": {
            "text/plain": [
              "array([[1, 2, 3],\n",
              "       [4, 5, 6],\n",
              "       [7, 8, 9]])"
            ]
          },
          "execution_count": 37,
          "metadata": {},
          "output_type": "execute_result"
        }
      ],
      "source": [
        "# square 3 by 3 matrix with elements staring from 1 to 9  big bracket used\n",
        "\n",
        "np.array([[1,2,3],[4,5,6],[7,8,9]])"
      ]
    },
    {
      "cell_type": "code",
      "execution_count": 40,
      "metadata": {
        "colab": {
          "base_uri": "https://localhost:8080/"
        },
        "id": "hNaFqhPBytIB",
        "outputId": "07254d7e-375b-47df-cb28-2e7221241756"
      },
      "outputs": [
        {
          "name": "stdout",
          "output_type": "stream",
          "text": [
            "[[ 1 20  3]\n",
            " [ 4  5  6]\n",
            " [ 7  8  9]]\n"
          ]
        }
      ],
      "source": [
        "# changing 2 to 20 by initializing array to varibale and changing index\n",
        "array= np.array([[1,2,3],[4,5,6],[7,8,9]])\n",
        "array[0, 1]=20\n",
        "print(array)"
      ]
    },
    {
      "cell_type": "code",
      "execution_count": 44,
      "metadata": {
        "colab": {
          "base_uri": "https://localhost:8080/"
        },
        "id": "pFeYy073zySe",
        "outputId": "9333d30a-d4c4-481b-8751-c586e2b8d38a"
      },
      "outputs": [
        {
          "name": "stdout",
          "output_type": "stream",
          "text": [
            "[[1 2 3]\n",
            " [4 5 6]\n",
            " [1 1 1]]\n"
          ]
        }
      ],
      "source": [
        "# changing third row to 1,1,1\n",
        "array= np.array([\n",
        "    [1,2,3],\n",
        " [4,5,6],\n",
        "  [7,8,9]\n",
        "    ])\n",
        "array[2]=[1,1,1]\n",
        "print(array)"
      ]
    },
    {
      "cell_type": "code",
      "execution_count": 45,
      "metadata": {
        "colab": {
          "base_uri": "https://localhost:8080/"
        },
        "id": "Iy_dQjSw0l4P",
        "outputId": "25878735-4dc3-4875-b269-8502f43db3e0"
      },
      "outputs": [
        {
          "name": "stdout",
          "output_type": "stream",
          "text": [
            "[[1 2 2]\n",
            " [4 5 2]\n",
            " [7 8 2]]\n"
          ]
        }
      ],
      "source": [
        "# changing third column to 1,1,2\n",
        "array= np.array([\n",
        "    [1,2,3],\n",
        " [4,5,6],\n",
        "  [7,8,9]\n",
        "    ])\n",
        "array[:, 2]=2\n",
        "print(array)"
      ]
    },
    {
      "cell_type": "code",
      "execution_count": 47,
      "metadata": {
        "colab": {
          "base_uri": "https://localhost:8080/"
        },
        "id": "5Hg74vYh1Lih",
        "outputId": "b2ecd9bd-5086-4d15-f716-a842164d5f3f"
      },
      "outputs": [
        {
          "data": {
            "text/plain": [
              "array([[10, 10, 10],\n",
              "       [10, 10, 10],\n",
              "       [10, 10, 10]])"
            ]
          },
          "execution_count": 47,
          "metadata": {},
          "output_type": "execute_result"
        }
      ],
      "source": [
        "# creating 3*3 dimensional array with all elements 10\n",
        "np.full((3,3),10)"
      ]
    },
    {
      "cell_type": "markdown",
      "metadata": {
        "id": "Jo2InmwS2V33"
      },
      "source": [
        "# Randomly generated arrays\n"
      ]
    },
    {
      "cell_type": "markdown",
      "metadata": {
        "id": "gttTzFUu2bdr"
      },
      "source": [
        "- Numpy can create arrays filled with random numbers\n",
        "- to ensure the reproductibility, you can set a seed using ``` np.random.seed()``` It will generate the exact same random numbers for each executions\n",
        "-If you remove or change the seed values, the sequence of random numbers will be changed\n"
      ]
    },
    {
      "cell_type": "code",
      "execution_count": 50,
      "metadata": {
        "colab": {
          "base_uri": "https://localhost:8080/"
        },
        "id": "GE4l6XlZ2aG3",
        "outputId": "378a18cb-8a40-485f-d888-fc90ba4bbcb1"
      },
      "outputs": [
        {
          "data": {
            "text/plain": [
              "array([0.97439155, 0.75819898, 0.79814318, 0.90653071, 0.22896115])"
            ]
          },
          "execution_count": 50,
          "metadata": {},
          "output_type": "execute_result"
        }
      ],
      "source": [
        "np.random.rand(5)\n"
      ]
    },
    {
      "cell_type": "code",
      "execution_count": 53,
      "metadata": {
        "colab": {
          "base_uri": "https://localhost:8080/"
        },
        "id": "KffqkTZx3HwX",
        "outputId": "ac57c6cd-d876-4b10-db6a-45145a6e4fff"
      },
      "outputs": [
        {
          "data": {
            "text/plain": [
              "array([0.52191572, 0.69940637, 0.26986897, 0.67448187, 0.90807208])"
            ]
          },
          "execution_count": 53,
          "metadata": {},
          "output_type": "execute_result"
        }
      ],
      "source": [
        "np.random.seed(80)\n",
        "np.random.rand(5)"
      ]
    },
    {
      "cell_type": "code",
      "execution_count": 54,
      "metadata": {
        "colab": {
          "base_uri": "https://localhost:8080/"
        },
        "id": "wOvSpKvY3Yxc",
        "outputId": "c8c4ab66-4467-4e70-fb82-feea421098c0"
      },
      "outputs": [
        {
          "data": {
            "text/plain": [
              "array([[-1.03446493,  0.66424004],\n",
              "       [-1.13937438, -0.89472205],\n",
              "       [-0.2207972 , -0.43007258],\n",
              "       [ 1.19972246,  0.1222967 ],\n",
              "       [ 0.54794733, -0.52658091]])"
            ]
          },
          "execution_count": 54,
          "metadata": {},
          "output_type": "execute_result"
        }
      ],
      "source": [
        "np.random.randn(5,2)"
      ]
    },
    {
      "cell_type": "code",
      "execution_count": 63,
      "metadata": {
        "colab": {
          "base_uri": "https://localhost:8080/"
        },
        "id": "2yCykJM34PWg",
        "outputId": "165632d1-cd6c-4c24-b91d-acc33f611147"
      },
      "outputs": [
        {
          "data": {
            "text/plain": [
              "array([[ 4, 48, 59, 96, 47, 58, 58, 75, 77],\n",
              "       [73,  8, 48, 68, 43, 53, 81, 48, 93],\n",
              "       [70, 93, 45,  4, 60, 74, 36, 44, 65],\n",
              "       [95, 81, 94, 28, 43, 35, 71, 83, 97],\n",
              "       [39, 50, 55,  2, 39, 80, 30, 76, 28],\n",
              "       [58, 83, 41,  5, 41, 57, 30, 47, 89]])"
            ]
          },
          "execution_count": 63,
          "metadata": {},
          "output_type": "execute_result"
        }
      ],
      "source": [
        "np.random.randint( low=0, high=100, size=(6,9))"
      ]
    },
    {
      "cell_type": "code",
      "execution_count": null,
      "metadata": {
        "id": "XqEMtqvr5Dn3"
      },
      "outputs": [],
      "source": []
    }
  ],
  "metadata": {
    "colab": {
      "authorship_tag": "ABX9TyOqBjeq50O74E0HKFKoYeYZ",
      "include_colab_link": true,
      "provenance": [],
      "toc_visible": true
    },
    "kernelspec": {
      "display_name": "base",
      "language": "python",
      "name": "python3"
    },
    "language_info": {
      "codemirror_mode": {
        "name": "ipython",
        "version": 3
      },
      "file_extension": ".py",
      "mimetype": "text/x-python",
      "name": "python",
      "nbconvert_exporter": "python",
      "pygments_lexer": "ipython3",
      "version": "3.12.7"
    }
  },
  "nbformat": 4,
  "nbformat_minor": 0
}
